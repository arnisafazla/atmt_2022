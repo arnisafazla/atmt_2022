{
  "cells": [
    {
      "cell_type": "markdown",
      "metadata": {
        "id": "view-in-github",
        "colab_type": "text"
      },
      "source": [
        "<a href=\"https://colab.research.google.com/github/mschoene/atmt_2023/blob/main/NML_Ex3.ipynb\" target=\"_parent\"><img src=\"https://colab.research.google.com/assets/colab-badge.svg\" alt=\"Open In Colab\"/></a>"
      ]
    },
    {
      "cell_type": "markdown",
      "metadata": {
        "id": "QqdCQLPymppr"
      },
      "source": [
        "# The code change is on git, this notebook is just for running the training, translation and comparison with sacrebleu"
      ]
    },
    {
      "cell_type": "code",
      "source": [
        "!pip install torch==2.0.1 numpy tqdm sacrebleu"
      ],
      "metadata": {
        "colab": {
          "base_uri": "https://localhost:8080/"
        },
        "id": "zpkhsphvzeH9",
        "outputId": "c8f0ee00-d6cd-4733-e560-d528551930de"
      },
      "execution_count": null,
      "outputs": [
        {
          "output_type": "stream",
          "name": "stdout",
          "text": [
            "Requirement already satisfied: torch==2.0.1 in /usr/local/lib/python3.10/dist-packages (2.0.1)\n",
            "Requirement already satisfied: numpy in /usr/local/lib/python3.10/dist-packages (1.23.5)\n",
            "Requirement already satisfied: tqdm in /usr/local/lib/python3.10/dist-packages (4.66.1)\n",
            "Requirement already satisfied: sacrebleu in /usr/local/lib/python3.10/dist-packages (2.3.1)\n",
            "Requirement already satisfied: filelock in /usr/local/lib/python3.10/dist-packages (from torch==2.0.1) (3.12.4)\n",
            "Requirement already satisfied: typing-extensions in /usr/local/lib/python3.10/dist-packages (from torch==2.0.1) (4.5.0)\n",
            "Requirement already satisfied: sympy in /usr/local/lib/python3.10/dist-packages (from torch==2.0.1) (1.12)\n",
            "Requirement already satisfied: networkx in /usr/local/lib/python3.10/dist-packages (from torch==2.0.1) (3.2)\n",
            "Requirement already satisfied: jinja2 in /usr/local/lib/python3.10/dist-packages (from torch==2.0.1) (3.1.2)\n",
            "Requirement already satisfied: nvidia-cuda-nvrtc-cu11==11.7.99 in /usr/local/lib/python3.10/dist-packages (from torch==2.0.1) (11.7.99)\n",
            "Requirement already satisfied: nvidia-cuda-runtime-cu11==11.7.99 in /usr/local/lib/python3.10/dist-packages (from torch==2.0.1) (11.7.99)\n",
            "Requirement already satisfied: nvidia-cuda-cupti-cu11==11.7.101 in /usr/local/lib/python3.10/dist-packages (from torch==2.0.1) (11.7.101)\n",
            "Requirement already satisfied: nvidia-cudnn-cu11==8.5.0.96 in /usr/local/lib/python3.10/dist-packages (from torch==2.0.1) (8.5.0.96)\n",
            "Requirement already satisfied: nvidia-cublas-cu11==11.10.3.66 in /usr/local/lib/python3.10/dist-packages (from torch==2.0.1) (11.10.3.66)\n",
            "Requirement already satisfied: nvidia-cufft-cu11==10.9.0.58 in /usr/local/lib/python3.10/dist-packages (from torch==2.0.1) (10.9.0.58)\n",
            "Requirement already satisfied: nvidia-curand-cu11==10.2.10.91 in /usr/local/lib/python3.10/dist-packages (from torch==2.0.1) (10.2.10.91)\n",
            "Requirement already satisfied: nvidia-cusolver-cu11==11.4.0.1 in /usr/local/lib/python3.10/dist-packages (from torch==2.0.1) (11.4.0.1)\n",
            "Requirement already satisfied: nvidia-cusparse-cu11==11.7.4.91 in /usr/local/lib/python3.10/dist-packages (from torch==2.0.1) (11.7.4.91)\n",
            "Requirement already satisfied: nvidia-nccl-cu11==2.14.3 in /usr/local/lib/python3.10/dist-packages (from torch==2.0.1) (2.14.3)\n",
            "Requirement already satisfied: nvidia-nvtx-cu11==11.7.91 in /usr/local/lib/python3.10/dist-packages (from torch==2.0.1) (11.7.91)\n",
            "Requirement already satisfied: triton==2.0.0 in /usr/local/lib/python3.10/dist-packages (from torch==2.0.1) (2.0.0)\n",
            "Requirement already satisfied: setuptools in /usr/local/lib/python3.10/dist-packages (from nvidia-cublas-cu11==11.10.3.66->torch==2.0.1) (67.7.2)\n",
            "Requirement already satisfied: wheel in /usr/local/lib/python3.10/dist-packages (from nvidia-cublas-cu11==11.10.3.66->torch==2.0.1) (0.41.2)\n",
            "Requirement already satisfied: cmake in /usr/local/lib/python3.10/dist-packages (from triton==2.0.0->torch==2.0.1) (3.27.7)\n",
            "Requirement already satisfied: lit in /usr/local/lib/python3.10/dist-packages (from triton==2.0.0->torch==2.0.1) (17.0.4)\n",
            "Requirement already satisfied: portalocker in /usr/local/lib/python3.10/dist-packages (from sacrebleu) (2.8.2)\n",
            "Requirement already satisfied: regex in /usr/local/lib/python3.10/dist-packages (from sacrebleu) (2023.6.3)\n",
            "Requirement already satisfied: tabulate>=0.8.9 in /usr/local/lib/python3.10/dist-packages (from sacrebleu) (0.9.0)\n",
            "Requirement already satisfied: colorama in /usr/local/lib/python3.10/dist-packages (from sacrebleu) (0.4.6)\n",
            "Requirement already satisfied: lxml in /usr/local/lib/python3.10/dist-packages (from sacrebleu) (4.9.3)\n",
            "Requirement already satisfied: MarkupSafe>=2.0 in /usr/local/lib/python3.10/dist-packages (from jinja2->torch==2.0.1) (2.1.3)\n",
            "Requirement already satisfied: mpmath>=0.19 in /usr/local/lib/python3.10/dist-packages (from sympy->torch==2.0.1) (1.3.0)\n"
          ]
        }
      ]
    },
    {
      "cell_type": "code",
      "execution_count": null,
      "metadata": {
        "colab": {
          "base_uri": "https://localhost:8080/"
        },
        "id": "bGKI2JQimoZI",
        "outputId": "9697ba80-f11e-4f78-f083-16c074ae2e41"
      },
      "outputs": [
        {
          "output_type": "stream",
          "name": "stdout",
          "text": [
            "fatal: destination path 'atmt_2023' already exists and is not an empty directory.\n"
          ]
        }
      ],
      "source": [
        "!git clone https://github.com/mschoene/atmt_2023.git"
      ]
    },
    {
      "cell_type": "code",
      "execution_count": null,
      "metadata": {
        "colab": {
          "base_uri": "https://localhost:8080/"
        },
        "id": "oafUBspAqAYR",
        "outputId": "eee7aa7f-b54c-4562-adeb-00c380c25b05"
      },
      "outputs": [
        {
          "output_type": "stream",
          "name": "stdout",
          "text": [
            "/content/atmt_2023\n"
          ]
        }
      ],
      "source": [
        "%cd atmt_2023"
      ]
    },
    {
      "cell_type": "code",
      "execution_count": null,
      "metadata": {
        "colab": {
          "base_uri": "https://localhost:8080/"
        },
        "id": "UcB5eXk5qgY5",
        "outputId": "02057645-c3a4-41c7-8e51-5d042831d8a9"
      },
      "outputs": [
        {
          "output_type": "stream",
          "name": "stdout",
          "text": [
            "assignments  LICENSE\t    __pycache__       scripts  test\t\t  translate.py\n",
            "atmt_2023    moses_scripts  README.md\t      seq2seq  train.py\n",
            "data\t     preprocess.py  requirements.txt  share    translate_beam.py\n"
          ]
        }
      ],
      "source": [
        "!ls"
      ]
    },
    {
      "cell_type": "code",
      "source": [],
      "metadata": {
        "id": "S7Hv1MBB8FCE"
      },
      "execution_count": null,
      "outputs": []
    },
    {
      "cell_type": "code",
      "source": [
        "!ls data/en-fr/prepared"
      ],
      "metadata": {
        "colab": {
          "base_uri": "https://localhost:8080/"
        },
        "id": "aEJXqf_27Gkr",
        "outputId": "58981bfc-12f2-40e8-8497-86c61758d4d9"
      },
      "execution_count": null,
      "outputs": [
        {
          "output_type": "stream",
          "name": "stdout",
          "text": [
            "dict.en  test\t  test.fr\t tiny_train.fr\ttrain.fr  valid.fr\n",
            "dict.fr  test.en  tiny_train.en  train.en\tvalid.en\n"
          ]
        }
      ]
    },
    {
      "cell_type": "code",
      "source": [
        "!python translate.py \\\n",
        "    --data data/en-fr/prepared/ \\\n",
        "    --dicts data/en-fr/prepared \\\n",
        "    --checkpoint-path assignments/03/baseline/checkpoints/checkpoint_best.pt \\\n",
        "    --output assignments/03/baseline/translations_own.txt"
      ],
      "metadata": {
        "colab": {
          "base_uri": "https://localhost:8080/"
        },
        "id": "KIv74z5G7XDJ",
        "outputId": "ad3be8df-e5ac-4b22-bec2-e0f8f7ccfc4a"
      },
      "execution_count": null,
      "outputs": [
        {
          "output_type": "stream",
          "name": "stdout",
          "text": [
            "[2023-11-03 16:15:51] COMMAND: translate.py --data data/en-fr/prepared/ --dicts data/en-fr/prepared --checkpoint-path assignments/03/baseline/checkpoints/checkpoint_best.pt --output assignments/03/baseline/translations_own.txt\n",
            "[2023-11-03 16:15:51] Arguments: {'cuda': False, 'data': 'data/en-fr/prepared/', 'source_lang': 'fr', 'target_lang': 'en', 'max_tokens': None, 'batch_size': 1, 'train_on_tiny': False, 'arch': 'lstm', 'max_epoch': 10000, 'clip_norm': 4.0, 'lr': 0.0003, 'patience': 3, 'log_file': None, 'save_dir': '/home/user/kew/HS2021/atmt/tests/assignment_03/baseline/checkpoints', 'restore_file': 'checkpoint_last.pt', 'save_interval': 1, 'no_save': False, 'epoch_checkpoints': False, 'encoder_embed_dim': 64, 'encoder_embed_path': None, 'encoder_hidden_size': 64, 'encoder_num_layers': 1, 'encoder_bidirectional': 'True', 'encoder_dropout_in': 0.25, 'encoder_dropout_out': 0.25, 'decoder_embed_dim': 64, 'decoder_embed_path': None, 'decoder_hidden_size': 128, 'decoder_num_layers': 1, 'decoder_dropout_in': 0.25, 'decoder_dropout_out': 0.25, 'decoder_use_attention': 'True', 'decoder_use_lexical_model': 'False', 'device_id': 0, 'seed': 42, 'dicts': 'data/en-fr/prepared', 'checkpoint_path': 'assignments/03/baseline/checkpoints/checkpoint_best.pt', 'output': 'assignments/03/baseline/translations_own.txt', 'max_len': 128}\n",
            "[2023-11-03 16:15:51] Loaded a source dictionary (fr) with 4000 words\n",
            "[2023-11-03 16:15:51] Loaded a target dictionary (en) with 4000 words\n",
            "[2023-11-03 16:15:51] Loaded a model from checkpoint assignments/03/baseline/checkpoints/checkpoint_best.pt\n"
          ]
        }
      ]
    },
    {
      "cell_type": "code",
      "source": [
        "!ls data/en-fr/prepared/test.en"
      ],
      "metadata": {
        "colab": {
          "base_uri": "https://localhost:8080/"
        },
        "id": "nnnisKMANgYA",
        "outputId": "bbff92a1-298c-4a78-b317-db800b24955a"
      },
      "execution_count": null,
      "outputs": [
        {
          "output_type": "stream",
          "name": "stdout",
          "text": [
            "data/en-fr/prepared/test.en\n"
          ]
        }
      ]
    },
    {
      "cell_type": "code",
      "execution_count": null,
      "metadata": {
        "id": "9L3YfLdDoWK4"
      },
      "outputs": [],
      "source": [
        "!bash scripts/postprocess.sh assignments/03/baseline/translations_own assignments/03/baseline/translations_own_postProc.txt en"
      ]
    },
    {
      "cell_type": "code",
      "source": [
        "!ls -lthr assignments/03/baseline/"
      ],
      "metadata": {
        "colab": {
          "base_uri": "https://localhost:8080/"
        },
        "id": "wnQ4GAbmYyPM",
        "outputId": "ecf7e353-ec92-48ba-da4b-94661331a099"
      },
      "execution_count": null,
      "outputs": [
        {
          "output_type": "stream",
          "name": "stdout",
          "text": [
            "total 132K\n",
            "drwxr-xr-x 2 root root 4.0K Nov  3 14:39 checkpoints\n",
            "-rw-r--r-- 1 root root  23K Nov  3 14:39 translations.txt\n",
            "-rw-r--r-- 1 root root  21K Nov  3 14:39 translations.p.txt\n",
            "-rw-r--r-- 1 root root 8.9K Nov  3 14:39 exp.log\n",
            "-rw-r--r-- 1 root root  23K Nov  3 15:16 translations_own\n",
            "-rw-r--r-- 1 root root  23K Nov  3 16:47 translations_own.txt\n",
            "-rw-r--r-- 1 root root  20K Nov  3 16:57 translations_own_postProc.txt\n"
          ]
        }
      ]
    },
    {
      "cell_type": "code",
      "execution_count": null,
      "metadata": {
        "colab": {
          "base_uri": "https://localhost:8080/"
        },
        "id": "v9fUS-1OoaOj",
        "outputId": "2e40e860-ce9b-404b-e75f-b7a54850e9ae"
      },
      "outputs": [
        {
          "output_type": "stream",
          "name": "stdout",
          "text": [
            "Traceback (most recent call last):\n",
            "  File \"/usr/local/bin/sacrebleu\", line 8, in <module>\n",
            "    sys.exit(main())\n",
            "  File \"/usr/local/lib/python3.10/dist-packages/sacrebleu/sacrebleu.py\", line 380, in main\n",
            "    fields = inputfh.readline().rstrip().split('\\t')\n",
            "  File \"/usr/lib/python3.10/codecs.py\", line 322, in decode\n",
            "    (result, consumed) = self._buffer_decode(data, self.errors, final)\n",
            "UnicodeDecodeError: 'utf-8' codec can't decode byte 0x80 in position 0: invalid start byte\n",
            "\u001b[0m"
          ]
        }
      ],
      "source": [
        "#!cat path/to/postprocessed/model/translations/file | sacrebleu path/to/raw/target/test/file\n",
        "\n",
        "!cat data/en-fr/prepared/test.en | sacrebleu assignments/03/baseline/translations_own_postProc.txt"
      ]
    },
    {
      "cell_type": "code",
      "source": [],
      "metadata": {
        "id": "1A8Z3ecaFXx5"
      },
      "execution_count": null,
      "outputs": []
    },
    {
      "cell_type": "code",
      "source": [
        "\n",
        "\n",
        "#assignments/03/preprocess_data.sh"
      ],
      "metadata": {
        "id": "1fGnuIjm9D2U"
      },
      "execution_count": null,
      "outputs": []
    },
    {
      "cell_type": "code",
      "execution_count": null,
      "metadata": {
        "id": "pSpttEESn46X"
      },
      "outputs": [],
      "source": [
        "!python train.py \\\n",
        "    --data data/\n",
        "    --source-lang fr \\\n",
        "    --target-lang en \\\n",
        "    --save-dir outdir/checkpoints \\\n",
        "    --train-on-tiny # for testing purposes only"
      ]
    },
    {
      "cell_type": "code",
      "execution_count": null,
      "metadata": {
        "id": "HGII-e4EoTD1"
      },
      "outputs": [],
      "source": [
        "!python translate.py \\\n",
        "    --data data/en-sv/infopankki/prepared \\\n",
        "    --dicts data/en-sv/infopankki/prepared \\\n",
        "    --checkpoint-path outdir/checkpoints/checkpoint_best.pt \\\n",
        "    --output output/translations"
      ]
    },
    {
      "cell_type": "code",
      "source": [
        "!less"
      ],
      "metadata": {
        "id": "4GjH1-y8DQQ5"
      },
      "execution_count": null,
      "outputs": []
    }
  ],
  "metadata": {
    "colab": {
      "provenance": [],
      "authorship_tag": "ABX9TyPQZ2UgKw08ZQ19qbgUbvSb",
      "include_colab_link": true
    },
    "kernelspec": {
      "display_name": "Python 3",
      "name": "python3"
    },
    "language_info": {
      "name": "python"
    }
  },
  "nbformat": 4,
  "nbformat_minor": 0
}